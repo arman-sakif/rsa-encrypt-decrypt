{
  "nbformat": 4,
  "nbformat_minor": 0,
  "metadata": {
    "colab": {
      "provenance": []
    },
    "kernelspec": {
      "name": "python3",
      "display_name": "Python 3"
    },
    "language_info": {
      "name": "python"
    }
  },
  "cells": [
    {
      "cell_type": "code",
      "source": [
        "import rsa"
      ],
      "metadata": {
        "id": "OzPH-6-myBUZ"
      },
      "execution_count": null,
      "outputs": []
    },
    {
      "cell_type": "markdown",
      "source": [
        "#Generating Keys"
      ],
      "metadata": {
        "id": "Lb3NDwuY2Yov"
      }
    },
    {
      "cell_type": "code",
      "source": [
        "def generatekeys():\n",
        "  public_key, private_key = rsa.newkeys(512)\n",
        "  priv = private_key.save_pkcs1().decode('utf-8')\n",
        "  pub = public_key.save_pkcs1().decode('utf-8')\n",
        "  f = open('priv.txt', 'w')\n",
        "  f.write(priv)\n",
        "  f.close()\n",
        "\n",
        "  f = open('pub.txt', 'w')\n",
        "  f.write(pub)\n",
        "  f.close()\n",
        "  return public_key, private_key"
      ],
      "metadata": {
        "id": "Flna7rvCyiMJ"
      },
      "execution_count": null,
      "outputs": []
    },
    {
      "cell_type": "code",
      "source": [
        "while(1):\n",
        "  x_inp = input('do you have existing key files priv.txt and pub.txt (y/n): ')\n",
        "  if x_inp == 'n':\n",
        "    public_key, private_key = generatekeys()\n",
        "    print('keys generated')\n",
        "    break\n",
        "  elif x_inp == 'y':\n",
        "    try:\n",
        "      f = open('pub.txt', 'r')\n",
        "      pub = f.read()\n",
        "      f.close()\n",
        "    except:\n",
        "      print('key file does not exist. please press n when prompted to generate key files')\n",
        "      continue\n",
        "    public_key = rsa.PublicKey.load_pkcs1(pub)\n",
        "    print('public key loaded from existing file')\n",
        "    break\n",
        "  else:\n",
        "    print('wrong input please try again')\n",
        "\n"
      ],
      "metadata": {
        "colab": {
          "base_uri": "https://localhost:8080/"
        },
        "id": "P1sDlVLJxQ7R",
        "outputId": "d264a12d-8a1d-43c6-cf95-d7a135d51610"
      },
      "execution_count": null,
      "outputs": [
        {
          "output_type": "stream",
          "name": "stdout",
          "text": [
            "do you have existing key files priv.txt and pub.txt (y/n): y\n",
            "public key loaded from existing file\n"
          ]
        }
      ]
    },
    {
      "cell_type": "markdown",
      "source": [
        "#User Input"
      ],
      "metadata": {
        "id": "0pZeLmkpz_ox"
      }
    },
    {
      "cell_type": "code",
      "source": [
        "msg = \"this is a dummy secret message\"\n",
        "msg = input('enter text you want to encrypt: ')"
      ],
      "metadata": {
        "id": "rQ8jZTb_x_9_",
        "colab": {
          "base_uri": "https://localhost:8080/"
        },
        "outputId": "03876924-dd70-4ee7-bde7-063fc172983c"
      },
      "execution_count": null,
      "outputs": [
        {
          "name": "stdout",
          "output_type": "stream",
          "text": [
            "enter text you want to encrypt: this is a secret message\n"
          ]
        }
      ]
    },
    {
      "cell_type": "markdown",
      "source": [
        "#Encrypting\n"
      ],
      "metadata": {
        "id": "n4oiKvOe2ceW"
      }
    },
    {
      "cell_type": "code",
      "source": [
        "enc_msg = rsa.encrypt(msg.encode(), public_key)\n",
        "f = open('message.bin', 'wb')\n",
        "f.write(enc_msg)\n",
        "f.close()\n",
        "print('encrypted message: ', enc_msg)\n",
        "print('the message is encrypted and saved in message.bin file')"
      ],
      "metadata": {
        "id": "XZBqod_Q0Xnw",
        "colab": {
          "base_uri": "https://localhost:8080/"
        },
        "outputId": "001de2e0-b135-4cc4-a76a-dcb6cc2eb6e4"
      },
      "execution_count": null,
      "outputs": [
        {
          "output_type": "stream",
          "name": "stdout",
          "text": [
            "encrypted message:  b\"c\\xe7\\xfax\\x0bB\\xa4Z\\xc9\\xee\\x9c\\xecL\\t\\xa4\\xc7u\\xe2o\\xc7\\x94\\xe4L\\x06\\xcc\\x13\\xce\\xb7\\xa2\\x91\\xca\\xd5\\x02\\x96\\x8a)\\xca\\x87\\xb7\\x825a\\xb9\\xeb\\xc7^\\x0f\\x07\\xc8O\\x02D\\x8e\\xb9\\xb6\\x9d'\\n\\x1c\\x80qI\\xee\\x1e\"\n",
            "the message is encrypted and saved in message.bin file\n"
          ]
        }
      ]
    },
    {
      "cell_type": "markdown",
      "source": [
        "#decoding"
      ],
      "metadata": {
        "id": "Jd1m98_i2WDf"
      }
    },
    {
      "cell_type": "code",
      "source": [
        "f = open('message.bin', 'rb')\n",
        "enc_msg = f.read()\n",
        "f.close()\n",
        "\n",
        "f = open('priv.txt', 'r')\n",
        "priv = f.read()\n",
        "f.close()\n",
        "\n",
        "key = rsa.PrivateKey.load_pkcs1(priv)\n",
        "\n",
        "dec_msg = rsa.decrypt(enc_msg, key).decode()\n",
        "dec_msg"
      ],
      "metadata": {
        "id": "foKitrGh24A3"
      },
      "execution_count": null,
      "outputs": []
    }
  ]
}