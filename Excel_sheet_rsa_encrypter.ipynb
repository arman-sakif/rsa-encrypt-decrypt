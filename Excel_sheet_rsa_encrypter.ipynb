{
  "nbformat": 4,
  "nbformat_minor": 0,
  "metadata": {
    "colab": {
      "provenance": []
    },
    "kernelspec": {
      "name": "python3",
      "display_name": "Python 3"
    },
    "language_info": {
      "name": "python"
    }
  },
  "cells": [
    {
      "cell_type": "code",
      "source": [
        "import rsa\n",
        "import pandas as pd\n",
        "import numpy as np"
      ],
      "metadata": {
        "id": "OzPH-6-myBUZ"
      },
      "execution_count": null,
      "outputs": []
    },
    {
      "cell_type": "markdown",
      "source": [
        "#loading dataframe"
      ],
      "metadata": {
        "id": "0rA3HaTT5CTW"
      }
    },
    {
      "cell_type": "code",
      "source": [
        "df = pd.read_excel('dummy.xlsx')"
      ],
      "metadata": {
        "id": "0jFyAtSP5Gxx"
      },
      "execution_count": null,
      "outputs": []
    },
    {
      "cell_type": "code",
      "source": [
        "df"
      ],
      "metadata": {
        "id": "saq-of0B5WTk"
      },
      "execution_count": null,
      "outputs": []
    },
    {
      "cell_type": "code",
      "source": [
        "df.tail(1)"
      ],
      "metadata": {
        "id": "ULviEfQa5fZ8"
      },
      "execution_count": null,
      "outputs": []
    },
    {
      "cell_type": "code",
      "source": [
        "df['enc_pass'] = \"NA\"\n",
        "df"
      ],
      "metadata": {
        "id": "TK27A4YN5q5O"
      },
      "execution_count": null,
      "outputs": []
    },
    {
      "cell_type": "markdown",
      "source": [
        "#Generating Keys"
      ],
      "metadata": {
        "id": "Lb3NDwuY2Yov"
      }
    },
    {
      "cell_type": "code",
      "source": [
        "publicKey, privateKey = rsa.newkeys(512)"
      ],
      "metadata": {
        "id": "lyyCiQKWx3BL"
      },
      "execution_count": null,
      "outputs": []
    },
    {
      "cell_type": "code",
      "source": [
        "priv = privateKey.save_pkcs1().decode('utf-8')\n",
        "pub = publicKey.save_pkcs1().decode('utf-8')"
      ],
      "metadata": {
        "id": "tEzkL1aXyH0f"
      },
      "execution_count": null,
      "outputs": []
    },
    {
      "cell_type": "code",
      "source": [
        "f = open('priv-key.txt', 'w')\n",
        "f.write(priv)\n",
        "f.close()\n",
        "\n",
        "f = open('pub-key.txt', 'w')\n",
        "f.write(pub)\n",
        "f.close()"
      ],
      "metadata": {
        "id": "rPSE3pm_zShP"
      },
      "execution_count": null,
      "outputs": []
    },
    {
      "cell_type": "markdown",
      "source": [
        "#Encrypting"
      ],
      "metadata": {
        "id": "n4oiKvOe2ceW"
      }
    },
    {
      "cell_type": "code",
      "source": [
        "for i in range(len(df['password'])):\n",
        "  if df['enc_pass'][i] == \"NA\":\n",
        "    msg = df['password'][i]\n",
        "    enc_msg = rsa.encrypt(msg.encode(), publicKey)\n",
        "    df.at[i,'enc_pass'] = enc_msg"
      ],
      "metadata": {
        "id": "k27Ihgs27XhU"
      },
      "execution_count": null,
      "outputs": []
    },
    {
      "cell_type": "code",
      "source": [
        "df"
      ],
      "metadata": {
        "id": "chuhBUIP83E8"
      },
      "execution_count": null,
      "outputs": []
    },
    {
      "cell_type": "code",
      "source": [
        "df = df.drop('password', axis=1)"
      ],
      "metadata": {
        "id": "Og5G7nzV-xbd"
      },
      "execution_count": null,
      "outputs": []
    },
    {
      "cell_type": "code",
      "source": [
        "df"
      ],
      "metadata": {
        "id": "rKd8Wm0k_FBH"
      },
      "execution_count": null,
      "outputs": []
    },
    {
      "cell_type": "code",
      "source": [
        "df.to_excel('dummy-encrypted.xlsx', index=False)\n"
      ],
      "metadata": {
        "id": "XZBqod_Q0Xnw"
      },
      "execution_count": null,
      "outputs": []
    },
    {
      "cell_type": "code",
      "source": [
        "# f = open('message.bin', 'wb')\n",
        "# f.write(enc_msg)\n",
        "# f.close()"
      ],
      "metadata": {
        "id": "jM0YzqKb7UlM"
      },
      "execution_count": null,
      "outputs": []
    },
    {
      "cell_type": "markdown",
      "source": [
        "#Decrypting"
      ],
      "metadata": {
        "id": "Jd1m98_i2WDf"
      }
    },
    {
      "cell_type": "code",
      "source": [
        "enc_msg = b\"\\xbb\\xea@pa\\x95\\x1c\\x91\\xcb'q\\xbc\\xfa\\xca\\xc2jU\\xda\\xa6\\x7f!\\xc4\\xe9<\\xf4(\\xfc.`\\x00y\\x94#'9\\x0e*\\xb9\\xf1\\x08\\xe0\\x05\\x9fw\\xad\\xb3\\xabLI\\xf4\\xbf\\xd3@A\\xf1w\\xf1K\\xdaM\\xa5\\xd90\\xea\""
      ],
      "metadata": {
        "id": "T5PLfP_B-K3b"
      },
      "execution_count": null,
      "outputs": []
    },
    {
      "cell_type": "code",
      "source": [
        "# f = open('message.bin', 'rb')\n",
        "# enc_msg = f.read()\n",
        "# f.close()\n",
        "\n",
        "f = open('priv-key.txt', 'r')\n",
        "priv = f.read()\n",
        "f.close()"
      ],
      "metadata": {
        "id": "foKitrGh24A3"
      },
      "execution_count": null,
      "outputs": []
    },
    {
      "cell_type": "code",
      "source": [
        "key = rsa.PrivateKey.load_pkcs1(priv)"
      ],
      "metadata": {
        "id": "8L44PgAA05w4"
      },
      "execution_count": null,
      "outputs": []
    },
    {
      "cell_type": "code",
      "source": [
        "dec_msg = rsa.decrypt(enc_msg, key).decode()\n",
        "dec_msg"
      ],
      "metadata": {
        "id": "zNLu-04H0rPf"
      },
      "execution_count": null,
      "outputs": []
    }
  ]
}