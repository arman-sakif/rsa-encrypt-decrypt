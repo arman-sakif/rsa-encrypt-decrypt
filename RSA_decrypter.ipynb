{
  "nbformat": 4,
  "nbformat_minor": 0,
  "metadata": {
    "colab": {
      "provenance": []
    },
    "kernelspec": {
      "name": "python3",
      "display_name": "Python 3"
    },
    "language_info": {
      "name": "python"
    }
  },
  "cells": [
    {
      "cell_type": "code",
      "source": [
        "import rsa"
      ],
      "metadata": {
        "id": "OzPH-6-myBUZ"
      },
      "execution_count": null,
      "outputs": []
    },
    {
      "cell_type": "markdown",
      "source": [
        "#decrypting\n",
        "\n"
      ],
      "metadata": {
        "id": "qCsQLX265M-2"
      }
    },
    {
      "cell_type": "code",
      "source": [
        "#reading private_key text file\n",
        "try:\n",
        "  f = open('priv.txt', 'r')\n",
        "  priv = f.read()\n",
        "  f.close()\n",
        "except:\n",
        "  print('private key file not found. please keep the priv.txt file in the same directory and try again')\n",
        "key = rsa.PrivateKey.load_pkcs1(priv)"
      ],
      "metadata": {
        "id": "P1sDlVLJxQ7R"
      },
      "execution_count": null,
      "outputs": []
    },
    {
      "cell_type": "code",
      "source": [
        "#you can use it to read message. bin\n",
        "try:\n",
        "  f = open('message.bin', 'rb')\n",
        "  enc_msg = f.read()\n",
        "  f.close()\n",
        "except:\n",
        "  print('encrypted message.bin file not found')\n",
        "  f.close()"
      ],
      "metadata": {
        "id": "_rxGrAth5glG"
      },
      "execution_count": null,
      "outputs": []
    },
    {
      "cell_type": "code",
      "source": [
        "enc_msg = b\"c\\xe7\\xfax\\x0bB\\xa4Z\\xc9\\xee\\x9c\\xecL\\t\\xa4\\xc7u\\xe2o\\xc7\\x94\\xe4L\\x06\\xcc\\x13\\xce\\xb7\\xa2\\x91\\xca\\xd5\\x02\\x96\\x8a)\\xca\\x87\\xb7\\x825a\\xb9\\xeb\\xc7^\\x0f\\x07\\xc8O\\x02D\\x8e\\xb9\\xb6\\x9d'\\n\\x1c\\x80qI\\xee\\x1e\""
      ],
      "metadata": {
        "id": "NjeccQYq9UfG"
      },
      "execution_count": null,
      "outputs": []
    },
    {
      "cell_type": "markdown",
      "source": [
        "#decoding"
      ],
      "metadata": {
        "id": "Jd1m98_i2WDf"
      }
    },
    {
      "cell_type": "code",
      "source": [
        "key = rsa.PrivateKey.load_pkcs1(priv)"
      ],
      "metadata": {
        "id": "8L44PgAA05w4"
      },
      "execution_count": null,
      "outputs": []
    },
    {
      "cell_type": "code",
      "source": [
        "dec_msg = rsa.decrypt(enc_msg, key).decode()\n",
        "dec_msg"
      ],
      "metadata": {
        "colab": {
          "base_uri": "https://localhost:8080/",
          "height": 36
        },
        "id": "zNLu-04H0rPf",
        "outputId": "ed195414-f29d-43ff-a8cc-85b75451964a"
      },
      "execution_count": null,
      "outputs": [
        {
          "output_type": "execute_result",
          "data": {
            "text/plain": [
              "'this is a secret message'"
            ],
            "application/vnd.google.colaboratory.intrinsic+json": {
              "type": "string"
            }
          },
          "metadata": {},
          "execution_count": 36
        }
      ]
    }
  ]
}